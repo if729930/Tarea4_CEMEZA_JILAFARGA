{
 "cells": [
  {
   "cell_type": "markdown",
   "metadata": {},
   "source": [
    "<img style=\"float: left; margin: 30px 15px 15px 15px;\" src=\"https://pngimage.net/wp-content/uploads/2018/06/logo-iteso-png-5.png\" width=\"300\" height=\"500\" /> \n",
    "    \n",
    "    \n",
    "### <font color='navy'> Simulación de procesos financieros. \n",
    "\n",
    "**Nombres:** Claudia Estefania Meza Fonseca, Jesus Ivan Lafarga.\n",
    "\n",
    "**Fecha:** 21 de Septiembre 2021.\n",
    "\n",
    "**Expediente** : 729930,708989 .\n",
    "**Profesor:** Oscar David Jaramillo Zuluaga.\n",
    "    \n",
    "**Link Github**:https://github.com/if729930/Tarea4_CEMEZA_JILAFARGA"
   ]
  },
  {
   "cell_type": "markdown",
   "metadata": {},
   "source": [
    "# Tarea\n",
    "\n",
    "# 1\n",
    "Como ejemplo simple de una simulación de Monte Carlo, considere calcular la probabilidad de una suma particular del lanzamiento de tres dados (cada dado tiene valores del uno al seis). Además cada dado tiene las siguientes carácterísticas: el primer dado no está cargado (distribución uniforme todos son equiprobables); el segundo y tercer dado están cargados basados en una distribución binomial con parámetros (`n=5, p=0.5` y `n=5, p=0.2`). Calcule la probabilidad de que la suma resultante sea 7, 14 o 18. "
   ]
  },
  {
   "cell_type": "code",
   "execution_count": 3,
   "metadata": {},
   "outputs": [],
   "source": [
    "#Librerías\n",
    "import numpy as np\n",
    "import matplotlib.pyplot as plt\n",
    "import pandas as pd\n",
    "import os\n",
    "import scipy.stats as st"
   ]
  },
  {
   "cell_type": "code",
   "execution_count": 5,
   "metadata": {},
   "outputs": [],
   "source": [
    "st.binom?"
   ]
  },
  {
   "cell_type": "code",
   "execution_count": 8,
   "metadata": {},
   "outputs": [
    {
     "data": {
      "text/plain": [
       "(0.12649, 0.01371, 1e-05)"
      ]
     },
     "execution_count": 8,
     "metadata": {},
     "output_type": "execute_result"
    }
   ],
   "source": [
    "# Solución estudiante 1:\n",
    "n = 100000\n",
    "# DADO 1 (NO CARGADO)\n",
    "dado1 = np.random.randint(1,7,n)\n",
    "# DADO 2 (CARGADO n=5, p=0.5)\n",
    "dado2 = st.binom(n=5, p=0.5,loc=1).rvs(size=n)\n",
    "# DADO 3 (CARGADO  n=5, p=0.2)\n",
    "dado3 = st.binom(n=5, p=0.2,loc=1).rvs(size=n)\n",
    "\n",
    "x = dado1 + dado2 + dado3\n",
    "suma_7 = (sum([(x == 7).sum()]))/n \n",
    "suma_14 = (sum([(x == 14).sum()]))/n\n",
    "suma_18 = (sum([(x == 18).sum()]))/n\n",
    "suma_7, suma_14, suma_18\n"
   ]
  },
  {
   "cell_type": "code",
   "execution_count": 1,
   "metadata": {},
   "outputs": [],
   "source": [
    "import numpy as np\n",
    "import matplotlib.pyplot as plt\n",
    "from collections import Counter\n",
    "from collections import deque\n",
    "from functools import reduce\n",
    "import pandas as pd\n",
    "import functools"
   ]
  },
  {
   "cell_type": "markdown",
   "id": "a88e6c5f",
   "metadata": {},
   "source": [
    "# Ivan"
   ]
  },
  {
   "cell_type": "code",
   "execution_count": 2,
   "metadata": {},
   "outputs": [
    {
     "data": {
      "text/plain": [
       "(0.1659, 0.0007, 0.0)"
      ]
     },
     "execution_count": 2,
     "metadata": {},
     "output_type": "execute_result"
    }
   ],
   "source": [
    "# Solución estudiante 2:\n",
    "import random\n",
    "import numpy as np\n",
    "def tiro_triple(n):\n",
    "    \n",
    "    tiros=np.zeros(n)\n",
    "    \n",
    "    def llenado(i):\n",
    "        \n",
    "        d1=np.random.choice(range(1,7))\n",
    "        d2=np.random.binomial(5, 0.5, 1)\n",
    "        d3=np.random.binomial(5, 0.2, 1)\n",
    "        \n",
    "        tiros[i]=d1+d2+d3\n",
    "    \n",
    "    [llenado(i) for i in range(n)]\n",
    "    \n",
    "    return tiros\n",
    "\n",
    "n=10000\n",
    "\n",
    "escenarios=tiro_triple(n)\n",
    "\n",
    "suma_7=[x for x in escenarios if x==7]\n",
    "suma_14=[x for x in escenarios if x==14]\n",
    "suma_18=[x for x in escenarios if x==18]\n",
    "\n",
    "prob_7=len(suma_7)/n\n",
    "prob_14=len(suma_14)/n\n",
    "prob_18=len(suma_18)/n\n",
    "\n",
    "\n",
    "prob_7, prob_14, prob_18"
   ]
  },
  {
   "cell_type": "code",
   "execution_count": 3,
   "metadata": {},
   "outputs": [
    {
     "name": "stdout",
     "output_type": "stream",
     "text": [
      "La probabilidad de que la suma de los dados sea 7 es: 0.1659\n",
      "La probabilidad de que la suma de los dados sea 14 es: 0.0007\n",
      "La probabilidad de que la suma de los dados sea 18 es: 0.0\n"
     ]
    }
   ],
   "source": [
    "print(\"La probabilidad de que la suma de los dados sea 7 es:\",prob_7)\n",
    "print(\"La probabilidad de que la suma de los dados sea 14 es:\",prob_14)\n",
    "print(\"La probabilidad de que la suma de los dados sea 18 es:\",prob_18)"
   ]
  },
  {
   "cell_type": "markdown",
   "metadata": {},
   "source": [
    "# 2 Ejercicio de aplicación- Cafetería Central\n",
    "\n",
    "Premisas para la simulación:\n",
    "- Negocio de alimentos que vende bebidas y alimentos.\n",
    "- Negocio dentro del ITESO.\n",
    "- Negocio en cafetería central.\n",
    "- Tipo de clientes (hombres y mujeres).\n",
    "- Rentabilidad del 60%.\n",
    "\n",
    "## Objetivo\n",
    "Realizar una simulación estimado el tiempo medio que se tardaran los clientes en ser atendidos entre el horario de 6:30 a 1 pm. Además saber el consumo. \n",
    "**Analizar supuestos y limitantes**"
   ]
  },
  {
   "cell_type": "markdown",
   "metadata": {},
   "source": [
    "## Supuestos en simulación\n",
    "Clasificación de clientes: \n",
    "- Mujer  = 1 $\\longrightarrow$ aleatorio < 0.5\n",
    "- Hombre = 0 $\\longrightarrow$ aleatorio $\\geq$ 0.5.\n",
    "\n",
    "Condiciones iniciales:\n",
    "- Todas las distrubuciones de probabilidad se supondrán uniformes.\n",
    "- Tiempo de simulación: 6:30 am - 1:30pm $\\longrightarrow$ T = 7 horas = 25200 seg.\n",
    "- Tiempo de llegada hasta ser atendido: Min=5seg, Max=30seg.\n",
    "- Tiempo que tardan los clientes en ser atendidos:\n",
    "    - Mujer: Min = 1 min= 60seg, Max = 5 min = 300 seg\n",
    "    - Hombre: Min = 40 seg, Max = 2 min= 120 seg\n",
    "- Consumo según el tipo de cliente:\n",
    "    - Mujer: Min = 30 pesos, Max = 100 pesos\n",
    "    - Hombre: Min = 20 pesos, Max = 80 pesos\n",
    "\n",
    "Responder las siguientes preguntas basados en los datos del problema:\n",
    "1. ¿Cuáles fueron los gastos de los hombres y las mujeres en 5 días de trabajo?.\n",
    "2. ¿Cuál fue el consumo promedio de los hombres y mujeres?\n",
    "3. ¿Cuál fue el número de personas atendidas por día?\n",
    "4. ¿Cuál fue el tiempo de atención promedio?\n",
    "5. ¿Cuánto fue la ganancia promedio de la cafetería en 5 días de trabajo y su respectiva rentabilidad?"
   ]
  },
  {
   "cell_type": "code",
   "execution_count": null,
   "metadata": {},
   "outputs": [],
   "source": []
  },
  {
   "cell_type": "code",
   "execution_count": 1,
   "metadata": {},
   "outputs": [],
   "source": [
    "################## Datos del problema\n",
    "d = 5\n",
    "T =25200\n",
    "T_at_min = 5; T_at_max = 30\n",
    "T_mujer_min =60; T_mujer_max = 300\n",
    "T_hombre_min = 40; T_hombre_max = 120\n",
    "C_mujer_min = 30; C_mujer_max = 100\n",
    "C_hombre_min = 20; C_hombre_max = 80"
   ]
  },
  {
   "cell_type": "code",
   "execution_count": null,
   "metadata": {},
   "outputs": [],
   "source": [
    "#Solución estudiante 1:\n"
   ]
  },
  {
   "cell_type": "markdown",
   "id": "b88f79a7",
   "metadata": {},
   "source": [
    "# Ivan"
   ]
  },
  {
   "cell_type": "code",
   "execution_count": 12,
   "metadata": {},
   "outputs": [
    {
     "name": "stdout",
     "output_type": "stream",
     "text": [
      "Hombres gastaron en total: 21178 Mujeres gastaron en un total: 28225\n",
      "El promedio de consumo en hombres fue de un 49.023148148148145  Mujeres el promedio es de consumo  64.29384965831436\n",
      "Personas atendidas por dia: [171, 171, 179, 185, 165]\n",
      "El promedio de tiempo de atencion es: 145.1366245694604\n",
      "EL promedio de la ganancia por día fue un: 5928.3600000000015 y la rentabilidad es: 0.6000000000000001\n"
     ]
    }
   ],
   "source": [
    "# Solución estudiante 2:\n",
    "d = 5\n",
    "T =25200\n",
    "T_at_min = 5; T_at_max = 30\n",
    "T_mujer_min =60; T_mujer_max = 300\n",
    "T_hombre_min = 40; T_hombre_max = 120\n",
    "C_mujer_min = 30; C_mujer_max = 100\n",
    "C_hombre_min = 20; C_hombre_max = 80\n",
    "\n",
    "T_aten = [] #Tiempo de atención por persona\n",
    "c_h = [] #Hombres\n",
    "c_m = [] #Mujeres\n",
    "p_dia = []\n",
    "\n",
    "P_aten = 0 #Personas atendidas en total\n",
    "j = 0 #Indice dentro de la variable personas\n",
    "m = 0 # cuántas mujeres\n",
    "h = 0 #cuántos hombres\n",
    "g = np.zeros(5) #Ganancias por día\n",
    "def eventoClienteFemenino():\n",
    "    t_llegada = np.random.randint(T_at_min,T_at_max)\n",
    "    #evento mujer\n",
    "    # Regresa una lista de dos cosas: tiempo de atención total y consumo\n",
    "    return [np.random.randint(T_mujer_min,T_mujer_max) + t_llegada,np.random.randint(C_mujer_min,C_mujer_max)]\n",
    "def eventoClienteMasculino():\n",
    "    t_llegada = np.random.randint(T_at_min,T_at_max)\n",
    "    #Evento hombre\n",
    "    return [np.random.randint(T_hombre_min,T_hombre_max)+t_llegada,np.random.randint(C_hombre_min,C_hombre_max)]\n",
    "for i in range(d):\n",
    "    t = 0 #tiempo restante en el día\n",
    "    loc = 0 #Variable local para trabajar\n",
    "    j=0 #Personas en el día\n",
    "    while t<T:\n",
    "        if np.random.rand() < 0.5:\n",
    "            loc = eventoClienteFemenino()\n",
    "            m +=1\n",
    "            c_m.append(loc[1])\n",
    "        else:\n",
    "            loc = eventoClienteMasculino()\n",
    "            h+=1\n",
    "            c_h.append(loc[1])\n",
    "        t+=loc[0]\n",
    "        j+=1\n",
    "        T_aten.append(loc[0])\n",
    "        g[i] += loc[1]*.6\n",
    "    p_dia.append(j) \n",
    "        \n",
    "#Respuestas del ejercicio\n",
    "\n",
    "\n",
    "#1.- ¿Cuáles fueron los gastos de los hombres y las mujeres en 5 días de trabajo?.\n",
    "print(\"Hombres gastaron en total:\",np.array(c_h).sum(),\"Mujeres gastaron en un total:\",np.array(c_m).sum())\n",
    "#2.- ¿Cuál fue el consumo promedio de los hombres y mujeres?\n",
    "print(\"El promedio de consumo en hombres fue de un\",np.array(c_h).mean(),\" Mujeres el promedio es de consumo \",np.array(c_m).mean())\n",
    "#3.-¿Cuál fue el número de personas atendidas por día?\n",
    "print(\"Personas atendidas por dia:\",p_dia)\n",
    "#4.-¿Cuál fue el tiempo de atención promedio?\n",
    "print(\"El promedio de tiempo de atencion es:\",np.array(T_aten).mean())\n",
    "#5.-'¿Cuánto fue la ganancia promedio de la cafetería en 5 días de trabajo y su respectiva rentabilidad?\n",
    "print(\"EL promedio de la ganancia por día fue un:\",g.mean(),\"y la rentabilidad es:\",g.sum()/(np.array(c_h).sum()+np.array(c_m).sum()))\n"
   ]
  },
  {
   "cell_type": "code",
   "execution_count": null,
   "metadata": {},
   "outputs": [],
   "source": []
  },
  {
   "cell_type": "code",
   "execution_count": null,
   "metadata": {},
   "outputs": [],
   "source": []
  }
 ],
 "metadata": {
  "kernelspec": {
   "display_name": "Python 3",
   "language": "python",
   "name": "python3"
  },
  "language_info": {
   "codemirror_mode": {
    "name": "ipython",
    "version": 3
   },
   "file_extension": ".py",
   "mimetype": "text/x-python",
   "name": "python",
   "nbconvert_exporter": "python",
   "pygments_lexer": "ipython3",
   "version": "3.8.8"
  }
 },
 "nbformat": 4,
 "nbformat_minor": 4
}
